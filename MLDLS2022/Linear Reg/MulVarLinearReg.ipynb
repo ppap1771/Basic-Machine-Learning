{
 "cells": [
  {
   "cell_type": "markdown",
   "metadata": {},
   "source": [
    "### Multi-Variate Linear Regression\n",
    "---\n",
    "We have discussed the uni-variate linera regression in detail in the earlier Jupyter Notebook   "
   ]
  }
 ],
 "metadata": {
  "language_info": {
   "name": "python"
  },
  "orig_nbformat": 4
 },
 "nbformat": 4,
 "nbformat_minor": 2
}

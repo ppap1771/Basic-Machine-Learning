{
 "cells": [
  {
   "cell_type": "markdown",
   "metadata": {},
   "source": [
    "### K-MEANS \n",
    "---\n",
    "K-Means Clustering is an Unsupervised Learning technique that divides an unlabeled dataset into clusters. K is the number of pre-defined clusters that must be produced during the procedure; for example, if K=2, there will be two clusters; if K=3, there will be three clusters, and so on.\n",
    "\n",
    "Assume you are given a data collection with a set of characteristics but no labels for each observed case. Labels are required for supervised algorithms such as Support Vector Machines, which train a hypothesis function to predict labels given features. As a result, we are unable to do supervised learning. What are our options?\n",
    " ![ alt algo](kmeansViz.png \"Figure 1\")\n",
    "ALGORITHM: \n",
    "Step-1: Select the number K to decide the number of clusters.\n",
    "Step-2: Select random K points or centroids. (It can be other from the input dataset).\n",
    "Step-3: Assign each data point to their closest centroid, which will form the predefined K clusters.\n",
    "Step-4: Calculate the variance and place a new centroid of each cluster.\n",
    "Step-5: Repeat the third steps, which means reassign each datapoint to the new closest centroid of each cluster.\n",
    "Step-6: If any reassignment occurs, then go to step-4 else go to FINISH.\n",
    "Step-7: The model is ready.\n",
    "\n",
    "Finding groupings of data in our dataset that are similar to one another – what we call clusters – is one of the simplest activities we can do on a data set without labels.\n",
    "\n",
    "K-Means is a widely used \"clustering\" technique. K-means saves $k$ centroids for use in defining clusters. A point is deemed to be in a certain cluster if it is closer to the centroid of that cluster than any other centroid.\n",
    "\n",
    "We are given a training set $x(1),..., x(m)$ and wish to arrange the data into a few coherent \"clusters\" in the clustering issue. As usual, we are given feature vectors for each data point $x(i) in mathbbRn$, but no labels $y(i)$. (making this an unsupervised learning problem). For each datapoint, we want to predict $k$ centroids and a label $c(i)$. The following is the k-means clustering algorithm:We are given a training set $x(1),..., x(m)$ and wish to arrange the data into a few coherent \"clusters\" in the clustering issue. As usual, we are given feature vectors for each data point $x(i) in mathbbRn$, but no labels $y(i)$. (making this an unsupervised learning problem). For each datapoint, we want to predict $k$ centroids and a label $c(i)$. The following is the k-means clustering algorithm:We are given a training set $x(1),..., x(m)$ and wish to arrange the data into a few coherent \"clusters\" in the clustering issue. As usual, we are given feature vectors for each data point $x(i) in mathbbRn$, but no labels $y(i)$. (making this an unsupervised learning problem). For each datapoint, we want to predict $k$ centroids and a label $c(i)$. The following is the k-means clustering algorithm:\n",
    "\n",
    "\n",
    " ![ alt algo](kmeansMath.png \"Figure 3\")\n",
    "\n",
    " \n",
    "Figure 1 depicts the use of k-means with a 2-dimensional feature vector (each point has two dimensions, an x and a y). You'll most likely be working with data that has a number of features in your apps. In reality, each data point may have hundreds of dimensions. We can see clusters in up to three dimensions (see figure 3), but anything beyond that requires a greater mathematical knowledge.\n",
    "\n",
    "---"
   ]
  },
  {
   "cell_type": "code",
   "execution_count": 1,
   "metadata": {},
   "outputs": [],
   "source": [
    "from sklearn import cluster , datasets\n",
    "import pandas as pd\n",
    "import numpy\n",
    "import matplotlib.pyplot as plt"
   ]
  },
  {
   "cell_type": "code",
   "execution_count": 2,
   "metadata": {},
   "outputs": [
    {
     "data": {
      "image/png": "[encoded data removed]",
      "text/plain": [
       "<Figure size 432x288 with 1 Axes>"
      ]
     },
     "metadata": {
      "needs_background": "light"
     },
     "output_type": "display_data"
    }
   ],
   "source": [
    "x=pd.read_csv(\"chennai.csv\")\n",
    "def dist(xa,ya,xb,yb):\n",
    "    dist = numpy.sqrt((xa-xb)*(xa-xb) + (ya-yb)*(ya-yb))\n",
    "    return dist\n",
    "# import pdb; pdb.set_trace()\n",
    "ram,prc=[],[]\n",
    "for i in x.itertuples():\n",
    "    # print(i)\n",
    "    # import pdb; pdb.set_trace()\n",
    "    ram.append(i[21])\n",
    "    prc.append(i[14])\n",
    "# n=len(clk)\n",
    "# prc=[0]*n\n",
    "plt.scatter(prc,ram)\n",
    "plt.show()"
   ]
  },
  {
   "cell_type": "code",
   "execution_count": 3,
   "metadata": {},
   "outputs": [
    {
     "name": "stdout",
     "output_type": "stream",
     "text": [
      "KMeans(n_clusters=3)\n"
     ]
    }
   ],
   "source": [
    "k_means = cluster.KMeans(n_clusters=3)\n",
    "# k_means.fit(X)\n",
    "data=pd.DataFrame({\n",
    "    'x':ram,\n",
    "    'y':prc\n",
    "})\n",
    "# import pdb; pdb.set_trace()\n",
    "print(k_means.fit(data))"
   ]
  },
  {
   "cell_type": "code",
   "execution_count": 4,
   "metadata": {},
   "outputs": [
    {
     "data": {
      "image/png": "[encoded data removed]",
      "text/plain": [
       "<Figure size 360x360 with 1 Axes>"
      ]
     },
     "metadata": {
      "needs_background": "light"
     },
     "output_type": "display_data"
    }
   ],
   "source": [
    "labels = k_means.predict(data)\n",
    "centroids = k_means.cluster_centers_\n",
    "# import pdb; pdb.set_trace()\n",
    "fig = plt.figure(figsize=(5, 5))\n",
    "colmap = {1: 'r', 2: 'g', 3: 'b'}\n",
    "colors = map(lambda x: colmap[x+1], labels)\n",
    "# import pdb; pdb.set_trace()\n",
    "for i in data.itertuples():\n",
    "    if dist(i[1],i[2],centroids[0][0],centroids[0][1])== min(dist(i[1],i[2],centroids[0][0],centroids[0][1]),dist(i[1],i[2],centroids[1][0],centroids[1][1]),dist(i[1],i[2],centroids[2][0],centroids[2][1])):\n",
    "        plt.scatter(i[1],i[2],color='r')\n",
    "    elif dist(i[1],i[2],centroids[1][0],centroids[1][1])== min(dist(i[1],i[2],centroids[0][0],centroids[0][1]),dist(i[1],i[2],centroids[1][0],centroids[1][1]),dist(i[1],i[2],centroids[2][0],centroids[2][1])):\n",
    "        plt.scatter(i[1],i[2],color='b')\n",
    "    else:\n",
    "        plt.scatter(i[1],i[2],color='g')\n",
    "# plt.scatter(data['x'], data['y'], color=colors, alpha=0.5)\n",
    "# plt.show()\n",
    "# for idx, centroid in enumerate(centroids):\n",
    "#     plt.scatter(*centroid, color=colmap[idx+1])\n",
    "plt.xlim(0, 5.5)\n",
    "plt.ylim(0, 4100)\n",
    "plt.show()"
   ]
  }
 ],
 "metadata": {
  "kernelspec": {
   "display_name": "Python 3.10.4 64-bit",
   "language": "python",
   "name": "python3"
  },
  "language_info": {
   "codemirror_mode": {
    "name": "ipython",
    "version": 3
   },
   "file_extension": ".py",
   "mimetype": "text/x-python",
   "name": "python",
   "nbconvert_exporter": "python",
   "pygments_lexer": "ipython3",
   "version": "3.10.4"
  },
  "orig_nbformat": 4,
  "vscode": {
   "interpreter": {
    "hash": "26de051ba29f2982a8de78e945f0abaf191376122a1563185a90213a26c5da77"
   }
  }
 },
 "nbformat": 4,
 "nbformat_minor": 2
}
